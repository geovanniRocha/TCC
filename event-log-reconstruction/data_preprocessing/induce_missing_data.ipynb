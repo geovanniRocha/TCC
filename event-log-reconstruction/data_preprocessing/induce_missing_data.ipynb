{
 "cells": [
  {
   "cell_type": "markdown",
   "metadata": {
    "deletable": true,
    "editable": true
   },
   "source": [
    "**Outline:**\n",
    "- Introduce missing values\n",
    "- Split data into train/val/test"
   ]
  },
  {
   "cell_type": "code",
   "execution_count": 2,
   "metadata": {
    "collapsed": true,
    "deletable": true,
    "editable": true
   },
   "outputs": [],
   "source": [
    "import os, sys\n",
    "import argparse\n",
    "import pandas as pd\n",
    "import numpy as np\n",
    "import pickle"
   ]
  },
  {
   "cell_type": "code",
   "execution_count": 3,
   "metadata": {
    "collapsed": true,
    "deletable": true,
    "editable": true
   },
   "outputs": [],
   "source": [
    "from dateutil.parser import parse\n",
    "from datetime import datetime\n",
    "import time\n",
    "import matplotlib.pyplot as plt\n",
    "import seaborn as sns\n",
    "\n",
    "%matplotlib inline\n",
    "\n",
    "pd.options.mode.chained_assignment = None #to run loop quicker without warnings"
   ]
  },
  {
   "cell_type": "code",
   "execution_count": 4,
   "metadata": {
    "collapsed": true,
    "deletable": true,
    "editable": true
   },
   "outputs": [],
   "source": [
    "#name = 'bpi_2012'\n",
    "#name = 'bpi_2013'\n",
    "name = 'small_log'\n",
    "#name = 'large_log'\n",
    "\n",
    "args = {\n",
    "    'data_dir': '../data/',\n",
    "    'data_file': name + '.csv',\n",
    "    'input_dir': '../input/{}/'.format(name),  \n",
    "    'nan_pct': 0.3,\n",
    "    'train_pct': 0.6,\n",
    "    'val_pct': 0.2,\n",
    "}\n",
    "\n",
    "args = argparse.Namespace(**args)"
   ]
  },
  {
   "cell_type": "code",
   "execution_count": 5,
   "metadata": {
    "collapsed": true,
    "deletable": true,
    "editable": true
   },
   "outputs": [],
   "source": [
    "if not os.path.isdir('../input/'):\n",
    "    os.makedirs('../input/')\n",
    "    \n",
    "if not os.path.isdir(args.input_dir):\n",
    "    os.makedirs(args.input_dir)"
   ]
  },
  {
   "cell_type": "code",
   "execution_count": 6,
   "metadata": {
    "collapsed": true,
    "deletable": true,
    "editable": true
   },
   "outputs": [],
   "source": [
    "sys.path.insert(0, './../utils/')\n",
    "from utils import *"
   ]
  },
  {
   "cell_type": "markdown",
   "metadata": {
    "deletable": true,
    "editable": true
   },
   "source": [
    "# Load data"
   ]
  },
  {
   "cell_type": "code",
   "execution_count": 7,
   "metadata": {
    "collapsed": true,
    "deletable": true,
    "editable": true
   },
   "outputs": [],
   "source": [
    "# Only consider Case, Activity, Timestamp\n",
    "cols = ['CaseID', 'Activity', 'CompleteTimestamp']\n",
    "\n",
    "# For Timestamp: Convert to time\n",
    "if name == 'helpdesk':\n",
    "    data = pd.read_csv(args.data_dir + args.data_file)\n",
    "else:\n",
    "    data = pd.read_csv(args.data_dir + args.data_file, usecols=['Case ID', 'Activity', 'Complete Timestamp'])\n",
    "    data['Case ID'] = data['Case ID'].apply(lambda x: x.split(' ')[1])\n",
    "    \n",
    "\n",
    "# Format for each column     \n",
    "data.columns = cols\n",
    "data['CompleteTimestamp'] = pd.to_datetime(data['CompleteTimestamp'], errors='coerce')\n",
    "data['CaseID'] = data['CaseID'].apply(pd.to_numeric)\n",
    "data['Activity'] = data['Activity'].apply(str)"
   ]
  },
  {
   "cell_type": "code",
   "execution_count": 8,
   "metadata": {
    "collapsed": false,
    "deletable": true,
    "editable": true
   },
   "outputs": [
    {
     "output_type": "execute_result",
     "data": {
      "text/plain": [
       "   CaseID    Activity   CompleteTimestamp\n",
       "0       1  Activity A 1970-01-01 09:00:00\n",
       "1       1  Activity B 1970-01-01 10:00:00\n",
       "2       1  Activity C 1970-01-01 11:00:00\n",
       "3       1  Activity D 1970-01-01 12:00:00\n",
       "4       1  Activity E 1970-01-01 13:00:00"
      ],
      "text/html": "<div>\n<style scoped>\n    .dataframe tbody tr th:only-of-type {\n        vertical-align: middle;\n    }\n\n    .dataframe tbody tr th {\n        vertical-align: top;\n    }\n\n    .dataframe thead th {\n        text-align: right;\n    }\n</style>\n<table border=\"1\" class=\"dataframe\">\n  <thead>\n    <tr style=\"text-align: right;\">\n      <th></th>\n      <th>CaseID</th>\n      <th>Activity</th>\n      <th>CompleteTimestamp</th>\n    </tr>\n  </thead>\n  <tbody>\n    <tr>\n      <th>0</th>\n      <td>1</td>\n      <td>Activity A</td>\n      <td>1970-01-01 09:00:00</td>\n    </tr>\n    <tr>\n      <th>1</th>\n      <td>1</td>\n      <td>Activity B</td>\n      <td>1970-01-01 10:00:00</td>\n    </tr>\n    <tr>\n      <th>2</th>\n      <td>1</td>\n      <td>Activity C</td>\n      <td>1970-01-01 11:00:00</td>\n    </tr>\n    <tr>\n      <th>3</th>\n      <td>1</td>\n      <td>Activity D</td>\n      <td>1970-01-01 12:00:00</td>\n    </tr>\n    <tr>\n      <th>4</th>\n      <td>1</td>\n      <td>Activity E</td>\n      <td>1970-01-01 13:00:00</td>\n    </tr>\n  </tbody>\n</table>\n</div>"
     },
     "metadata": {},
     "execution_count": 8
    }
   ],
   "source": [
    "data.head()"
   ]
  },
  {
   "cell_type": "markdown",
   "metadata": {
    "deletable": true,
    "editable": true
   },
   "source": [
    "# Explore data"
   ]
  },
  {
   "cell_type": "code",
   "execution_count": 9,
   "metadata": {
    "collapsed": false,
    "deletable": true,
    "editable": true
   },
   "outputs": [
    {
     "output_type": "stream",
     "name": "stdout",
     "text": [
      "There are: 2000 cases\nThere are: 14 activities\n"
     ]
    }
   ],
   "source": [
    "print('There are: {} cases'.format(len(data['CaseID'].unique())))\n",
    "print('There are: {} activities'.format(len(data['Activity'].unique())))"
   ]
  },
  {
   "cell_type": "code",
   "execution_count": 10,
   "metadata": {
    "collapsed": false,
    "deletable": true,
    "editable": true
   },
   "outputs": [
    {
     "output_type": "stream",
     "name": "stdout",
     "text": [
      "-----Frequency of different activities-----\nActivity G    2000\nActivity K    2000\nActivity N    2000\nActivity J    2000\nActivity A    2000\nActivity H    2000\nActivity F    2000\nActivity I    2000\nActivity B    2000\nActivity E    2000\nActivity D    2000\nActivity M    2000\nActivity L    2000\nActivity C    2000\nName: Activity, dtype: int64\n"
     ]
    }
   ],
   "source": [
    "print('-----Frequency of different activities-----')\n",
    "print(data['Activity'].value_counts())"
   ]
  },
  {
   "cell_type": "markdown",
   "metadata": {
    "deletable": true,
    "editable": true
   },
   "source": [
    "# Induce missing data"
   ]
  },
  {
   "cell_type": "markdown",
   "metadata": {
    "deletable": true,
    "editable": true
   },
   "source": [
    "**To do:**\n",
    "- nan_pct: percentage of nan values\n",
    "- Induce missingness: 30% data"
   ]
  },
  {
   "cell_type": "code",
   "execution_count": 11,
   "metadata": {
    "collapsed": false,
    "deletable": true,
    "editable": true
   },
   "outputs": [
    {
     "output_type": "execute_result",
     "data": {
      "text/plain": [
       "(28000, 3)"
      ]
     },
     "metadata": {},
     "execution_count": 11
    }
   ],
   "source": [
    "data.shape"
   ]
  },
  {
   "cell_type": "code",
   "execution_count": 12,
   "metadata": {
    "collapsed": false,
    "deletable": true,
    "editable": true
   },
   "outputs": [
    {
     "output_type": "stream",
     "name": "stdout",
     "text": [
      "Number of missing values: 16800\n"
     ]
    }
   ],
   "source": [
    "total_NA = int(data.shape[0]*(data.shape[1]-1)*args.nan_pct)\n",
    "print('Number of missing values: {}'.format(total_NA))"
   ]
  },
  {
   "cell_type": "code",
   "execution_count": 13,
   "metadata": {
    "collapsed": true,
    "deletable": true,
    "editable": true
   },
   "outputs": [],
   "source": [
    "# introduce missing Activities and Timestamps\n",
    "missing_data = data.copy()\n",
    "i = 0\n",
    "while i < total_NA:\n",
    "    row = np.random.randint(1, data.shape[0]) #exclude first row\n",
    "    col = np.random.randint(1, data.shape[1]) #exclude CaseID\n",
    "    if not pd.isnull(missing_data.iloc[row, col]): \n",
    "        missing_data.iloc[row, col] = np.nan\n",
    "        i+=1"
   ]
  },
  {
   "cell_type": "code",
   "execution_count": 14,
   "metadata": {
    "collapsed": false,
    "deletable": true,
    "editable": true
   },
   "outputs": [
    {
     "output_type": "stream",
     "name": "stdout",
     "text": [
      "-----Frequency of different activities-----\nActivity N    1438\nActivity M    1436\nActivity J    1432\nActivity E    1432\nActivity K    1430\nActivity I    1411\nActivity B    1411\nActivity A    1408\nActivity L    1398\nActivity D    1388\nActivity C    1388\nActivity H    1380\nActivity F    1372\nActivity G    1358\nName: Activity, dtype: int64\n"
     ]
    }
   ],
   "source": [
    "print('-----Frequency of different activities-----')\n",
    "print(missing_data['Activity'].value_counts())"
   ]
  },
  {
   "cell_type": "code",
   "execution_count": 15,
   "metadata": {
    "collapsed": false,
    "deletable": true,
    "editable": true
   },
   "outputs": [
    {
     "output_type": "stream",
     "name": "stdout",
     "text": [
      "Most frequent activity is: Activity N\n"
     ]
    }
   ],
   "source": [
    "most_frequent_activity = missing_data['Activity'].value_counts().index[0]\n",
    "print('Most frequent activity is: {}'.format(most_frequent_activity))"
   ]
  },
  {
   "cell_type": "code",
   "execution_count": 16,
   "metadata": {
    "collapsed": true,
    "deletable": true,
    "editable": true
   },
   "outputs": [],
   "source": [
    "first_timestamp = missing_data['CompleteTimestamp'][0]"
   ]
  },
  {
   "cell_type": "markdown",
   "metadata": {
    "deletable": true,
    "editable": true
   },
   "source": [
    "# Compute CumTimeInverval"
   ]
  },
  {
   "cell_type": "code",
   "execution_count": 17,
   "metadata": {
    "collapsed": true,
    "deletable": true,
    "editable": true
   },
   "outputs": [],
   "source": [
    "missing_df = calculateCumTimeInterval(missing_data)\n",
    "missing_df['CumTimeInterval'] = missing_df['CumTimeInterval'].apply(convert2seconds)"
   ]
  },
  {
   "cell_type": "code",
   "execution_count": 18,
   "metadata": {
    "collapsed": false,
    "deletable": true,
    "editable": true
   },
   "outputs": [
    {
     "output_type": "execute_result",
     "data": {
      "text/plain": [
       "   CaseID    Activity   CompleteTimestamp  CumTimeInterval\n",
       "0       1  Activity A 1970-01-01 09:00:00              0.0\n",
       "1       1  Activity B 1970-01-01 10:00:00           3600.0\n",
       "2       1         NaN 1970-01-01 11:00:00           7200.0\n",
       "3       1  Activity D 1970-01-01 12:00:00          10800.0\n",
       "4       1  Activity E                 NaT              NaN"
      ],
      "text/html": "<div>\n<style scoped>\n    .dataframe tbody tr th:only-of-type {\n        vertical-align: middle;\n    }\n\n    .dataframe tbody tr th {\n        vertical-align: top;\n    }\n\n    .dataframe thead th {\n        text-align: right;\n    }\n</style>\n<table border=\"1\" class=\"dataframe\">\n  <thead>\n    <tr style=\"text-align: right;\">\n      <th></th>\n      <th>CaseID</th>\n      <th>Activity</th>\n      <th>CompleteTimestamp</th>\n      <th>CumTimeInterval</th>\n    </tr>\n  </thead>\n  <tbody>\n    <tr>\n      <th>0</th>\n      <td>1</td>\n      <td>Activity A</td>\n      <td>1970-01-01 09:00:00</td>\n      <td>0.0</td>\n    </tr>\n    <tr>\n      <th>1</th>\n      <td>1</td>\n      <td>Activity B</td>\n      <td>1970-01-01 10:00:00</td>\n      <td>3600.0</td>\n    </tr>\n    <tr>\n      <th>2</th>\n      <td>1</td>\n      <td>NaN</td>\n      <td>1970-01-01 11:00:00</td>\n      <td>7200.0</td>\n    </tr>\n    <tr>\n      <th>3</th>\n      <td>1</td>\n      <td>Activity D</td>\n      <td>1970-01-01 12:00:00</td>\n      <td>10800.0</td>\n    </tr>\n    <tr>\n      <th>4</th>\n      <td>1</td>\n      <td>Activity E</td>\n      <td>NaT</td>\n      <td>NaN</td>\n    </tr>\n  </tbody>\n</table>\n</div>"
     },
     "metadata": {},
     "execution_count": 18
    }
   ],
   "source": [
    "missing_df.head()"
   ]
  },
  {
   "cell_type": "markdown",
   "metadata": {
    "deletable": true,
    "editable": true
   },
   "source": [
    "# Split df to train/val/test"
   ]
  },
  {
   "cell_type": "code",
   "execution_count": 19,
   "metadata": {
    "collapsed": true,
    "deletable": true,
    "editable": true
   },
   "outputs": [],
   "source": [
    "df = calculateCumTimeInterval(data)\n",
    "df['CumTimeInterval'] = df['CumTimeInterval'].apply(convert2seconds)"
   ]
  },
  {
   "cell_type": "code",
   "execution_count": 20,
   "metadata": {
    "collapsed": false,
    "deletable": true,
    "editable": true
   },
   "outputs": [
    {
     "output_type": "execute_result",
     "data": {
      "text/plain": [
       "   CaseID    Activity   CompleteTimestamp  CumTimeInterval\n",
       "0       1  Activity A 1970-01-01 09:00:00              0.0\n",
       "1       1  Activity B 1970-01-01 10:00:00           3600.0\n",
       "2       1  Activity C 1970-01-01 11:00:00           7200.0\n",
       "3       1  Activity D 1970-01-01 12:00:00          10800.0\n",
       "4       1  Activity E 1970-01-01 13:00:00          14400.0"
      ],
      "text/html": "<div>\n<style scoped>\n    .dataframe tbody tr th:only-of-type {\n        vertical-align: middle;\n    }\n\n    .dataframe tbody tr th {\n        vertical-align: top;\n    }\n\n    .dataframe thead th {\n        text-align: right;\n    }\n</style>\n<table border=\"1\" class=\"dataframe\">\n  <thead>\n    <tr style=\"text-align: right;\">\n      <th></th>\n      <th>CaseID</th>\n      <th>Activity</th>\n      <th>CompleteTimestamp</th>\n      <th>CumTimeInterval</th>\n    </tr>\n  </thead>\n  <tbody>\n    <tr>\n      <th>0</th>\n      <td>1</td>\n      <td>Activity A</td>\n      <td>1970-01-01 09:00:00</td>\n      <td>0.0</td>\n    </tr>\n    <tr>\n      <th>1</th>\n      <td>1</td>\n      <td>Activity B</td>\n      <td>1970-01-01 10:00:00</td>\n      <td>3600.0</td>\n    </tr>\n    <tr>\n      <th>2</th>\n      <td>1</td>\n      <td>Activity C</td>\n      <td>1970-01-01 11:00:00</td>\n      <td>7200.0</td>\n    </tr>\n    <tr>\n      <th>3</th>\n      <td>1</td>\n      <td>Activity D</td>\n      <td>1970-01-01 12:00:00</td>\n      <td>10800.0</td>\n    </tr>\n    <tr>\n      <th>4</th>\n      <td>1</td>\n      <td>Activity E</td>\n      <td>1970-01-01 13:00:00</td>\n      <td>14400.0</td>\n    </tr>\n  </tbody>\n</table>\n</div>"
     },
     "metadata": {},
     "execution_count": 20
    }
   ],
   "source": [
    "df.head()"
   ]
  },
  {
   "cell_type": "code",
   "execution_count": 21,
   "metadata": {
    "collapsed": true,
    "deletable": true,
    "editable": true
   },
   "outputs": [],
   "source": [
    "groupByCase = df.groupby(['CaseID'])\n",
    "missing_groupByCase = missing_df.groupby(['CaseID'])\n",
    "\n",
    "# Split: 70% train, 10% validate, 20% test\n",
    "train_size = int(len(groupByCase)*args.train_pct)\n",
    "val_size = int(len(groupByCase)*args.val_pct)\n",
    "test_size = len(groupByCase) - train_size - val_size"
   ]
  },
  {
   "cell_type": "code",
   "execution_count": 22,
   "metadata": {
    "collapsed": false,
    "deletable": true,
    "editable": true
   },
   "outputs": [
    {
     "output_type": "execute_result",
     "data": {
      "text/plain": [
       "(28000, 4)"
      ]
     },
     "metadata": {},
     "execution_count": 22
    }
   ],
   "source": [
    "df.shape"
   ]
  },
  {
   "cell_type": "code",
   "execution_count": 23,
   "metadata": {
    "collapsed": true,
    "deletable": true,
    "editable": true
   },
   "outputs": [],
   "source": [
    "df_train = pd.DataFrame(columns=list(df))\n",
    "df_val = pd.DataFrame(columns=list(df))\n",
    "df_test = pd.DataFrame(columns=list(df))\n",
    "\n",
    "for caseid, data_case in groupByCase:\n",
    "    if caseid <= train_size:\n",
    "        df_train = df_train.append(data_case)\n",
    "    elif train_size < caseid <= (train_size+val_size):\n",
    "        df_val = df_val.append(data_case)\n",
    "    else:\n",
    "        df_test = df_test.append(data_case)"
   ]
  },
  {
   "cell_type": "code",
   "execution_count": 24,
   "metadata": {
    "collapsed": false,
    "deletable": true,
    "editable": true
   },
   "outputs": [
    {
     "output_type": "execute_result",
     "data": {
      "text/plain": [
       "True"
      ]
     },
     "metadata": {},
     "execution_count": 24
    }
   ],
   "source": [
    "df.shape[0] == df_train.shape[0] + df_val.shape[0] + df_test.shape[0]"
   ]
  },
  {
   "cell_type": "code",
   "execution_count": 25,
   "metadata": {
    "collapsed": true,
    "deletable": true,
    "editable": true
   },
   "outputs": [],
   "source": [
    "missing_df_train = pd.DataFrame(columns=list(missing_df))\n",
    "missing_df_val = pd.DataFrame(columns=list(missing_df))\n",
    "missing_df_test = pd.DataFrame(columns=list(missing_df))\n",
    "\n",
    "#Note: case start from 1 not 0\n",
    "for caseid, data_case in missing_groupByCase:\n",
    "    if caseid <= train_size:\n",
    "        missing_df_train = missing_df_train.append(data_case)\n",
    "    elif train_size < caseid <= train_size+val_size:\n",
    "        missing_df_val = missing_df_val.append(data_case)\n",
    "    else:\n",
    "        missing_df_test = missing_df_test.append(data_case)"
   ]
  },
  {
   "cell_type": "code",
   "execution_count": 26,
   "metadata": {
    "collapsed": false,
    "deletable": true,
    "editable": true
   },
   "outputs": [
    {
     "output_type": "execute_result",
     "data": {
      "text/plain": [
       "True"
      ]
     },
     "metadata": {},
     "execution_count": 26
    }
   ],
   "source": [
    "missing_df.shape[0] == missing_df_train.shape[0] + missing_df_val.shape[0] + missing_df_test.shape[0]"
   ]
  },
  {
   "cell_type": "code",
   "execution_count": 27,
   "metadata": {
    "collapsed": false,
    "deletable": true,
    "editable": true
   },
   "outputs": [
    {
     "output_type": "execute_result",
     "data": {
      "text/plain": [
       "(1200, 400, 400)"
      ]
     },
     "metadata": {},
     "execution_count": 27
    }
   ],
   "source": [
    "len(df_train.groupby(['CaseID'])), len(df_val.groupby(['CaseID'])), len(df_test.groupby(['CaseID']))"
   ]
  },
  {
   "cell_type": "code",
   "execution_count": 28,
   "metadata": {
    "collapsed": false,
    "deletable": true,
    "editable": true
   },
   "outputs": [
    {
     "output_type": "execute_result",
     "data": {
      "text/plain": [
       "(1200, 400, 400)"
      ]
     },
     "metadata": {},
     "execution_count": 28
    }
   ],
   "source": [
    "train_size, val_size, test_size"
   ]
  },
  {
   "cell_type": "code",
   "execution_count": 29,
   "metadata": {
    "collapsed": false,
    "deletable": true,
    "editable": true
   },
   "outputs": [
    {
     "output_type": "execute_result",
     "data": {
      "text/plain": [
       "(1200, 400, 400)"
      ]
     },
     "metadata": {},
     "execution_count": 29
    }
   ],
   "source": [
    "len(missing_df_train.groupby(['CaseID'])), len(missing_df_val.groupby(['CaseID'])), len(missing_df_test.groupby(['CaseID']))"
   ]
  },
  {
   "cell_type": "code",
   "execution_count": 30,
   "metadata": {
    "collapsed": false,
    "deletable": true,
    "editable": true
   },
   "outputs": [
    {
     "output_type": "stream",
     "name": "stdout",
     "text": [
      "(16800, 4) (5600, 4) (5600, 4)\n"
     ]
    }
   ],
   "source": [
    "#get number of rows\n",
    "print(df_train.shape, df_val.shape, df_test.shape)\n",
    "train_row_num = df_train.shape[0]\n",
    "val_row_num = df_val.shape[0]\n",
    "test_row_num = df_test.shape[0]"
   ]
  },
  {
   "cell_type": "code",
   "execution_count": 31,
   "metadata": {
    "collapsed": false,
    "deletable": true,
    "editable": true
   },
   "outputs": [
    {
     "output_type": "execute_result",
     "data": {
      "text/plain": [
       "      CaseID    Activity   CompleteTimestamp  CumTimeInterval\n",
       "22400   1601  Activity A                 NaT              NaN\n",
       "22401   1601  Activity B                 NaT              NaN\n",
       "22402   1601  Activity C 1970-01-01 11:00:00           7200.0\n",
       "22403   1601  Activity D 1970-01-01 12:00:00          10800.0\n",
       "22404   1601  Activity E 1970-01-01 13:00:00          14400.0"
      ],
      "text/html": "<div>\n<style scoped>\n    .dataframe tbody tr th:only-of-type {\n        vertical-align: middle;\n    }\n\n    .dataframe tbody tr th {\n        vertical-align: top;\n    }\n\n    .dataframe thead th {\n        text-align: right;\n    }\n</style>\n<table border=\"1\" class=\"dataframe\">\n  <thead>\n    <tr style=\"text-align: right;\">\n      <th></th>\n      <th>CaseID</th>\n      <th>Activity</th>\n      <th>CompleteTimestamp</th>\n      <th>CumTimeInterval</th>\n    </tr>\n  </thead>\n  <tbody>\n    <tr>\n      <th>22400</th>\n      <td>1601</td>\n      <td>Activity A</td>\n      <td>NaT</td>\n      <td>NaN</td>\n    </tr>\n    <tr>\n      <th>22401</th>\n      <td>1601</td>\n      <td>Activity B</td>\n      <td>NaT</td>\n      <td>NaN</td>\n    </tr>\n    <tr>\n      <th>22402</th>\n      <td>1601</td>\n      <td>Activity C</td>\n      <td>1970-01-01 11:00:00</td>\n      <td>7200.0</td>\n    </tr>\n    <tr>\n      <th>22403</th>\n      <td>1601</td>\n      <td>Activity D</td>\n      <td>1970-01-01 12:00:00</td>\n      <td>10800.0</td>\n    </tr>\n    <tr>\n      <th>22404</th>\n      <td>1601</td>\n      <td>Activity E</td>\n      <td>1970-01-01 13:00:00</td>\n      <td>14400.0</td>\n    </tr>\n  </tbody>\n</table>\n</div>"
     },
     "metadata": {},
     "execution_count": 31
    }
   ],
   "source": [
    "missing_df_test.head()"
   ]
  },
  {
   "cell_type": "code",
   "execution_count": 32,
   "metadata": {
    "collapsed": false,
    "deletable": true,
    "editable": true
   },
   "outputs": [
    {
     "output_type": "stream",
     "name": "stdout",
     "text": [
      "Number of available row: 2727\n"
     ]
    }
   ],
   "source": [
    "avai_instance = 0\n",
    "for row in range(len(missing_df_test)):\n",
    "    if not pd.isnull(missing_df_test['CumTimeInterval'].iloc[row]) and not pd.isnull(missing_df_test['Activity'].iloc[row]):\n",
    "        avai_instance+=1\n",
    "        \n",
    "print('Number of available row: {}'.format(avai_instance))"
   ]
  },
  {
   "cell_type": "code",
   "execution_count": 33,
   "metadata": {
    "collapsed": false,
    "deletable": true,
    "editable": true
   },
   "outputs": [
    {
     "output_type": "stream",
     "name": "stdout",
     "text": [
      "Number of nan row: 2873\n"
     ]
    }
   ],
   "source": [
    "nan_instance = 0\n",
    "for row in range(len(missing_df_test)):\n",
    "    if pd.isnull(missing_df_test['CumTimeInterval'].iloc[row]) or pd.isnull(missing_df_test['Activity'].iloc[row]):\n",
    "        nan_instance+=1\n",
    "        \n",
    "print('Number of nan row: {}'.format(nan_instance))"
   ]
  },
  {
   "cell_type": "code",
   "execution_count": 34,
   "metadata": {
    "collapsed": false,
    "deletable": true,
    "editable": true
   },
   "outputs": [
    {
     "output_type": "execute_result",
     "data": {
      "text/plain": [
       "True"
      ]
     },
     "metadata": {},
     "execution_count": 34
    }
   ],
   "source": [
    "missing_df_test.shape[0] == avai_instance + nan_instance"
   ]
  },
  {
   "cell_type": "markdown",
   "metadata": {
    "deletable": true,
    "editable": true
   },
   "source": [
    "# Save df"
   ]
  },
  {
   "cell_type": "code",
   "execution_count": 35,
   "metadata": {
    "collapsed": true,
    "deletable": true,
    "editable": true
   },
   "outputs": [],
   "source": [
    "df_name = os.path.join(args.input_dir, 'complete_df_full_{}.csv'.format(args.nan_pct))\n",
    "df.to_csv(df_name, index=False)\n",
    "\n",
    "missing_df_name = os.path.join(args.input_dir, 'missing_df_full_{}.csv'.format(args.nan_pct))\n",
    "missing_df.to_csv(missing_df_name, index=False)"
   ]
  },
  {
   "cell_type": "code",
   "execution_count": 36,
   "metadata": {
    "collapsed": true,
    "deletable": true,
    "editable": true
   },
   "outputs": [],
   "source": [
    "#df_train.to_csv(args.input_dir+'complete_df_train.csv', index=False)\n",
    "#df_val.to_csv(args.input_dir+'complete_df_val.csv', index=False)\n",
    "#df_test.to_csv(args.input_dir+'complete_df_test.csv', index=False)"
   ]
  },
  {
   "cell_type": "code",
   "execution_count": 37,
   "metadata": {
    "collapsed": true,
    "deletable": true,
    "editable": true
   },
   "outputs": [],
   "source": [
    "#missing_df_train.to_csv(args.input_dir+'missing_df_train.csv', index=False)\n",
    "#missing_df_val.to_csv(args.input_dir+'missing_df_val.csv', index=False)\n",
    "#missing_df_test.to_csv(args.input_dir+'missing_df_test.csv', index=False)"
   ]
  },
  {
   "cell_type": "code",
   "execution_count": 38,
   "metadata": {
    "collapsed": false,
    "deletable": true,
    "editable": true
   },
   "outputs": [
    {
     "output_type": "execute_result",
     "data": {
      "text/plain": [
       "CaseID                  0\n",
       "Activity             8318\n",
       "CompleteTimestamp    8482\n",
       "CumTimeInterval      8482\n",
       "dtype: int64"
      ]
     },
     "metadata": {},
     "execution_count": 38
    }
   ],
   "source": [
    "pd.isnull(missing_df).sum()"
   ]
  },
  {
   "cell_type": "code",
   "execution_count": 39,
   "metadata": {
    "collapsed": false,
    "deletable": true,
    "editable": true
   },
   "outputs": [
    {
     "output_type": "execute_result",
     "data": {
      "text/plain": [
       "CaseID                  0\n",
       "Activity             4975\n",
       "CompleteTimestamp    5071\n",
       "CumTimeInterval      5071\n",
       "dtype: int64"
      ]
     },
     "metadata": {},
     "execution_count": 39
    }
   ],
   "source": [
    "pd.isnull(missing_df_train).sum()"
   ]
  },
  {
   "cell_type": "code",
   "execution_count": 40,
   "metadata": {
    "collapsed": false,
    "deletable": true,
    "editable": true
   },
   "outputs": [
    {
     "output_type": "execute_result",
     "data": {
      "text/plain": [
       "CaseID                  0\n",
       "Activity             1680\n",
       "CompleteTimestamp    1691\n",
       "CumTimeInterval      1691\n",
       "dtype: int64"
      ]
     },
     "metadata": {},
     "execution_count": 40
    }
   ],
   "source": [
    "pd.isnull(missing_df_val).sum()"
   ]
  },
  {
   "cell_type": "code",
   "execution_count": 41,
   "metadata": {
    "collapsed": false,
    "deletable": true,
    "editable": true,
    "scrolled": true
   },
   "outputs": [
    {
     "output_type": "execute_result",
     "data": {
      "text/plain": [
       "CaseID                  0\n",
       "Activity             1663\n",
       "CompleteTimestamp    1720\n",
       "CumTimeInterval      1720\n",
       "dtype: int64"
      ]
     },
     "metadata": {},
     "execution_count": 41
    }
   ],
   "source": [
    "pd.isnull(missing_df_test).sum()"
   ]
  },
  {
   "cell_type": "markdown",
   "metadata": {
    "deletable": true,
    "editable": true
   },
   "source": [
    "# Save parameters"
   ]
  },
  {
   "cell_type": "code",
   "execution_count": 42,
   "metadata": {
    "collapsed": true,
    "deletable": true,
    "editable": true
   },
   "outputs": [],
   "source": [
    "file_name = os.path.join(args.input_dir, 'parameters_{}.pkl'.format(args.nan_pct))\n",
    "with open(file_name, 'wb') as f: \n",
    "    pickle.dump(most_frequent_activity, f, protocol=2)\n",
    "    pickle.dump(first_timestamp, f, protocol=2)\n",
    "    pickle.dump(avai_instance, f, protocol=2)\n",
    "    pickle.dump(nan_instance, f, protocol=2)\n",
    "    pickle.dump(train_size, f, protocol=2)\n",
    "    pickle.dump(val_size, f, protocol=2)\n",
    "    pickle.dump(test_size, f, protocol=2)\n",
    "    pickle.dump(train_row_num, f, protocol=2)\n",
    "    pickle.dump(val_row_num, f, protocol=2)\n",
    "    pickle.dump(test_row_num, f, protocol=2)"
   ]
  },
  {
   "cell_type": "code",
   "execution_count": null,
   "metadata": {
    "collapsed": true,
    "deletable": true,
    "editable": true
   },
   "outputs": [],
   "source": []
  },
  {
   "cell_type": "code",
   "execution_count": null,
   "metadata": {},
   "outputs": [],
   "source": []
  }
 ],
 "metadata": {
  "kernelspec": {
   "display_name": "Python 3",
   "language": "python",
   "name": "python3"
  },
  "language_info": {
   "codemirror_mode": {
    "name": "ipython",
    "version": 3
   },
   "file_extension": ".py",
   "mimetype": "text/x-python",
   "name": "python",
   "nbconvert_exporter": "python",
   "pygments_lexer": "ipython3",
   "version": "3.7.3-final"
  },
  "toc": {
   "colors": {
    "hover_highlight": "#DAA520",
    "running_highlight": "#FF0000",
    "selected_highlight": "#FFD700"
   },
   "moveMenuLeft": true,
   "nav_menu": {
    "height": "48px",
    "width": "252px"
   },
   "navigate_menu": true,
   "number_sections": true,
   "sideBar": true,
   "threshold": 4,
   "toc_cell": false,
   "toc_section_display": "block",
   "toc_window_display": false
  }
 },
 "nbformat": 4,
 "nbformat_minor": 2
}