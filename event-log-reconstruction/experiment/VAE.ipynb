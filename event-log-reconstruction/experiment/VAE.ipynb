{
 "cells": [
  {
   "cell_type": "markdown",
   "metadata": {},
   "source": [
    "This is the implementation of [**Variational Autoencoder**](https://arxiv.org/pdf/1312.6114.pdf)"
   ]
  },
  {
   "cell_type": "markdown",
   "metadata": {},
   "source": [
    "**Outline:**\n",
    "- Build model and loss function\n",
    "- Train model\n",
    "- Observe valdidate\n",
    "- Test"
   ]
  },
  {
   "cell_type": "markdown",
   "metadata": {},
   "source": [
    "**To do:**\n",
    "- Hyperparameter tuning\n",
    "    + lr\n",
    "    + layer1, layer2\n",
    "    + betas"
   ]
  },
  {
   "cell_type": "markdown",
   "metadata": {},
   "source": [
    "**Modification**\n",
    "- Weight initialization with xavier uniform\n",
    "- Adam optimization\n",
    "- LR decay"
   ]
  },
  {
   "cell_type": "markdown",
   "metadata": {},
   "source": [
    "**To do:**\n",
    "- Add dropout\n",
    "- Implement another loss function"
   ]
  },
  {
   "cell_type": "code",
   "execution_count": 10,
   "metadata": {},
   "outputs": [],
   "source": [
    "import importlib\n",
    "import argparse\n",
    "import os, sys\n",
    "import argparse\n",
    "import pandas as pd\n",
    "import numpy as np\n",
    "import pickle\n",
    "import time"
   ]
  },
  {
   "cell_type": "code",
   "execution_count": 11,
   "metadata": {},
   "outputs": [],
   "source": [
    "import torch\n",
    "import torch.utils.data\n",
    "import torch.nn.functional as F\n",
    "import torch.nn as nn\n",
    "import torch.optim as optim\n",
    "import torch.optim.lr_scheduler\n",
    "from torch.autograd import Variable\n",
    "from torchvision import transforms"
   ]
  },
  {
   "cell_type": "code",
   "execution_count": 12,
   "metadata": {},
   "outputs": [],
   "source": [
    "sys.path.insert(0, './../utils/')\n",
    "from utils import *\n",
    "from models import *"
   ]
  },
  {
   "cell_type": "code",
   "execution_count": 13,
   "metadata": {},
   "outputs": [],
   "source": [
    "#Define parser\n",
    "#name = 'bpi_2012'\n",
    "#name = 'bpi_2013'\n",
    "name = 'small_log'\n",
    "#name = 'large_log'\n",
    "\n",
    "parser = {\n",
    "    'train': True,\n",
    "    'test': True,\n",
    "    'model_class': 'VAE', #VAE\n",
    "    'model_name': '',\n",
    "    'data_dir': '../data/',\n",
    "    'data_file': name + '.csv',\n",
    "    'nan_pct': 0.3,\n",
    "    'input_dir': '../input/{}/'.format(name), \n",
    "    'batch_size' : 16,\n",
    "    'epochs' : 50,\n",
    "    'no_cuda' : False,\n",
    "    'seed' : 7,\n",
    "    'layer1': 50,\n",
    "    'layer2': 20,\n",
    "    'early_stopping': 30,\n",
    "    'lr': 0.001,\n",
    "    'betas': (0.9, 0.99),   \n",
    "    'lr_decay': 0.99,\n",
    "}\n",
    "\n",
    "args = argparse.Namespace(**parser)\n",
    "args.output_dir = './output/{0}_{1}_{2}/'.format(name, args.nan_pct, args.model_class)"
   ]
  },
  {
   "cell_type": "code",
   "execution_count": 14,
   "metadata": {},
   "outputs": [],
   "source": [
    "if not os.path.isdir(args.output_dir):\n",
    "    os.makedirs(args.output_dir)"
   ]
  },
  {
   "cell_type": "code",
   "execution_count": 15,
   "metadata": {},
   "outputs": [],
   "source": [
    "args.cuda = not args.no_cuda and torch.cuda.is_available()"
   ]
  },
  {
   "cell_type": "code",
   "execution_count": 16,
   "metadata": {},
   "outputs": [],
   "source": [
    "torch.manual_seed(args.seed)\n",
    "if args.cuda:\n",
    "    torch.cuda.manual_seed(args.seed)"
   ]
  },
  {
   "cell_type": "code",
   "execution_count": 17,
   "metadata": {},
   "outputs": [],
   "source": [
    "kwargs = {'num_workers': 2, 'pin_memory': True} if args.cuda else {}"
   ]
  },
  {
   "cell_type": "code",
   "execution_count": 18,
   "metadata": {},
   "outputs": [],
   "source": [
    "preprocessed_data_name = os.path.join(args.input_dir, 'preprocessed_data_{}.pkl'.format(args.nan_pct))\n",
    "with open(preprocessed_data_name, 'rb') as f:\n",
    "    min_max_storage = pickle.load(f)\n",
    "    complete_matrix_w_normalized_time_train = pickle.load(f)\n",
    "    missing_matrix_w_normalized_time_train = pickle.load(f)\n",
    "    avai_matrix_train = pickle.load(f)\n",
    "    nan_matrix_train = pickle.load(f)\n",
    "    complete_matrix_w_normalized_time_val = pickle.load(f)\n",
    "    missing_matrix_w_normalized_time_val = pickle.load(f)\n",
    "    avai_matrix_val = pickle.load(f)\n",
    "    nan_matrix_val = pickle.load(f)\n",
    "    pad_matrix_val = pickle.load(f)\n",
    "    complete_matrix_w_normalized_time_test = pickle.load(f)\n",
    "    missing_matrix_w_normalized_time_test = pickle.load(f)\n",
    "    avai_matrix_test = pickle.load(f)\n",
    "    nan_matrix_test = pickle.load(f)\n",
    "    pad_matrix_test = pickle.load(f)\n",
    "    cols_w_time = pickle.load(f)\n",
    "    cols_w_normalized_time = pickle.load(f)"
   ]
  },
  {
   "cell_type": "code",
   "execution_count": 19,
   "metadata": {},
   "outputs": [],
   "source": [
    "file_name = os.path.join(args.input_dir, 'parameters_{}.pkl'.format(args.nan_pct))\n",
    "with open(file_name, 'rb') as f:\n",
    "    most_frequent_activity = pickle.load(f)\n",
    "    first_timestamp = pickle.load(f)\n",
    "    avai_instance = pickle.load(f)\n",
    "    nan_instance = pickle.load(f)\n",
    "    train_size = pickle.load(f)\n",
    "    val_size = pickle.load(f)\n",
    "    test_size = pickle.load(f)\n",
    "    train_row_num = pickle.load(f)\n",
    "    val_row_num = pickle.load(f)\n",
    "    test_row_num = pickle.load(f)"
   ]
  },
  {
   "cell_type": "markdown",
   "metadata": {},
   "source": [
    "# Load data"
   ]
  },
  {
   "cell_type": "markdown",
   "metadata": {},
   "source": [
    "## Train"
   ]
  },
  {
   "cell_type": "code",
   "execution_count": 102,
   "metadata": {},
   "outputs": [],
   "source": [
    "complete_matrix_w_normalized_time_trainLoader = torch.utils.data.DataLoader(complete_matrix_w_normalized_time_train,\n",
    "                                                                            batch_size=16, shuffle=True, num_workers=2)\n",
    "\n",
    "complete_matrix_w_normalized_time_trainLoader.transform = transforms.Compose([transforms.ToTensor()])\n",
    "\n",
    "\n",
    "\n",
    "missing_matrix_w_normalized_time_trainLoader = torch.utils.data.DataLoader(missing_matrix_w_normalized_time_train,\n",
    "                                                                           batch_size=16, shuffle=True, num_workers=2)\n",
    "missing_matrix_w_normalized_time_trainLoader.transform = transforms.Compose([transforms.ToTensor()])\n",
    "\n",
    "\n",
    "\n",
    "avai_matrix_trainLoader = torch.utils.data.DataLoader(avai_matrix_train, batch_size=16, shuffle=True, num_workers=2)\n",
    "avai_matrix_trainLoader.transform = transforms.Compose([transforms.ToTensor()])"
   ]
  },
  {
   "cell_type": "markdown",
   "metadata": {},
   "source": [
    "## Validate and test"
   ]
  },
  {
   "cell_type": "code",
   "execution_count": 103,
   "metadata": {},
   "outputs": [],
   "source": [
    "normalized_complete_df_name = os.path.join(args.input_dir, 'normalized_complete_df_{}.csv'.format(args.nan_pct))\n",
    "normalized_complete_df = pd.read_csv(normalized_complete_df_name)\n",
    "\n",
    "normalized_missing_df_name = os.path.join(args.input_dir, 'normalized_missing_df_{}.csv'.format(args.nan_pct))\n",
    "normalized_missing_df = pd.read_csv(normalized_missing_df_name)"
   ]
  },
  {
   "cell_type": "code",
   "execution_count": 104,
   "metadata": {},
   "outputs": [],
   "source": [
    "missing_true_val = normalized_missing_df[train_row_num:-test_row_num].reset_index(drop=True)\n",
    "complete_true_val = normalized_complete_df[train_row_num:-test_row_num].reset_index(drop=True)"
   ]
  },
  {
   "cell_type": "code",
   "execution_count": 105,
   "metadata": {},
   "outputs": [],
   "source": [
    "missing_true_test = normalized_missing_df[-test_row_num:].reset_index(drop=True)\n",
    "complete_true_test = normalized_complete_df[-test_row_num:].reset_index(drop=True)"
   ]
  },
  {
   "cell_type": "code",
   "execution_count": 106,
   "metadata": {},
   "outputs": [
    {
     "data": {
      "text/plain": [
       "((5600, 5), (5600, 5))"
      ]
     },
     "execution_count": 106,
     "metadata": {},
     "output_type": "execute_result"
    }
   ],
   "source": [
    "missing_true_val.shape, missing_true_test.shape"
   ]
  },
  {
   "cell_type": "code",
   "execution_count": 107,
   "metadata": {},
   "outputs": [],
   "source": [
    "nan_time_index_val, nan_activity_index_val = getnanindex(missing_true_val)"
   ]
  },
  {
   "cell_type": "code",
   "execution_count": 108,
   "metadata": {},
   "outputs": [],
   "source": [
    "nan_time_index_test, nan_activity_index_test = getnanindex(missing_true_test)"
   ]
  },
  {
   "cell_type": "code",
   "execution_count": 109,
   "metadata": {},
   "outputs": [
    {
     "data": {
      "text/plain": [
       "CaseID                  0\n",
       "Activity             8422\n",
       "CompleteTimestamp    8378\n",
       "CumTimeInterval      8378\n",
       "NormalizedTime       8378\n",
       "dtype: int64"
      ]
     },
     "execution_count": 109,
     "metadata": {},
     "output_type": "execute_result"
    }
   ],
   "source": [
    "pd.isnull(normalized_missing_df).sum()"
   ]
  },
  {
   "cell_type": "code",
   "execution_count": 110,
   "metadata": {},
   "outputs": [
    {
     "data": {
      "text/plain": [
       "CaseID                  0\n",
       "Activity             1718\n",
       "CompleteTimestamp    1689\n",
       "CumTimeInterval      1689\n",
       "NormalizedTime       1689\n",
       "dtype: int64"
      ]
     },
     "execution_count": 110,
     "metadata": {},
     "output_type": "execute_result"
    }
   ],
   "source": [
    "pd.isnull(missing_true_val).sum()"
   ]
  },
  {
   "cell_type": "code",
   "execution_count": 111,
   "metadata": {},
   "outputs": [
    {
     "data": {
      "text/plain": [
       "CaseID                  0\n",
       "Activity             1680\n",
       "CompleteTimestamp    1701\n",
       "CumTimeInterval      1701\n",
       "NormalizedTime       1701\n",
       "dtype: int64"
      ]
     },
     "execution_count": 111,
     "metadata": {},
     "output_type": "execute_result"
    }
   ],
   "source": [
    "pd.isnull(missing_true_test).sum()"
   ]
  },
  {
   "cell_type": "markdown",
   "metadata": {},
   "source": [
    "# Build model"
   ]
  },
  {
   "cell_type": "markdown",
   "metadata": {},
   "source": [
    "## Define model"
   ]
  },
  {
   "cell_type": "code",
   "execution_count": 112,
   "metadata": {},
   "outputs": [],
   "source": [
    "if args.model_class == 'VAE':\n",
    "    model = VAE(complete_matrix_w_normalized_time_train.shape, args.layer1, args.layer2, args.cuda)\n",
    "if args.model_class == 'VAE_dropout':\n",
    "    model = VAE_dropout(complete_matrix_w_normalized_time_train.shape, args.layer1, args.layer2, args.cuda)\n",
    "    \n",
    "if args.cuda:\n",
    "    model.cuda()"
   ]
  },
  {
   "cell_type": "markdown",
   "metadata": {},
   "source": [
    "## Define loss"
   ]
  },
  {
   "cell_type": "code",
   "execution_count": 113,
   "metadata": {},
   "outputs": [],
   "source": [
    "# Define loss\n",
    "\n",
    "def loss_function(recon_x, x, mu, logvar, avai_mask): \n",
    "    BCE = F.binary_cross_entropy(recon_x, x, weight=avai_mask, size_average=False)\n",
    "    KLD_element = mu.pow(2).add_(logvar.exp()).mul_(-1).add_(1).add_(logvar)\n",
    "    KLD = torch.sum(KLD_element).mul_(-0.5)\n",
    "    loss = BCE+KLD\n",
    "    return loss"
   ]
  },
  {
   "cell_type": "code",
   "execution_count": 114,
   "metadata": {},
   "outputs": [],
   "source": [
    "optimizer = optim.Adam(model.parameters(), lr=args.lr, betas=args.betas)"
   ]
  },
  {
   "cell_type": "code",
   "execution_count": 115,
   "metadata": {},
   "outputs": [],
   "source": [
    "#Adjust learning rate per epoch: http://pytorch.org/docs/master/optim.html?highlight=lr_scheduler#torch.optim.lr_scheduler.LambdaLR\n",
    "\n",
    "# Method 1:\n",
    "lambda1 = lambda epoch: epoch//10\n",
    "scheduler = torch.optim.lr_scheduler.LambdaLR(optimizer, lr_lambda=[lambda1])\n",
    "\n",
    "# Method 2:\n",
    "#scheduler = torch.optim.lr_scheduler.ReduceLROnPlateau(optimizer, 'min', patience=10)"
   ]
  },
  {
   "cell_type": "markdown",
   "metadata": {},
   "source": [
    "## Utils"
   ]
  },
  {
   "cell_type": "code",
   "execution_count": 116,
   "metadata": {},
   "outputs": [],
   "source": [
    "def save_model(model, epoch, score):\n",
    "    model_file = os.path.join(args.output_dir, 'model_{}_epoch{}_score{:.4f}.pth'.format(args.model_class, epoch, score))\n",
    "    torch.save(model.state_dict(), model_file)"
   ]
  },
  {
   "cell_type": "code",
   "execution_count": 117,
   "metadata": {},
   "outputs": [],
   "source": [
    "def load_model(model, model_name):\n",
    "    model_file = os.path.join(args.output_dir, model_name)\n",
    "    assert os.path.isfile(model_file), 'Error: no model found!'\n",
    "    model_state = torch.load(model_file)\n",
    "    model.load_state_dict(model_state)"
   ]
  },
  {
   "cell_type": "code",
   "execution_count": 118,
   "metadata": {},
   "outputs": [],
   "source": [
    "def val(model, missing_matrix_w_normalized_time_val, complete_matrix_w_normalized_time_val, avai_matrix_val):   \n",
    "    model.eval()\n",
    "    m_val = missing_matrix_w_normalized_time_val\n",
    "    m_val = Variable(torch.Tensor(m_val).float())\n",
    "    \n",
    "    c_val = complete_matrix_w_normalized_time_val\n",
    "    c_val = Variable(torch.Tensor(c_val).float())\n",
    "    \n",
    "    avai_matrix_val = Variable(torch.Tensor(avai_matrix_val).float())\n",
    "    \n",
    "    if args.cuda:\n",
    "        m_val = m_val.cuda()\n",
    "        c_val = c_val.cuda()\n",
    "        avai_matrix_val = avai_matrix_val.cuda()\n",
    "\n",
    "    recon_val, mu, var = model(m_val)\n",
    "    val_loss = loss_function(recon_val, c_val, mu, var, avai_matrix_val)    \n",
    "    \n",
    "    return val_loss.data[0]/len(c_val.data)"
   ]
  },
  {
   "cell_type": "code",
   "execution_count": 119,
   "metadata": {},
   "outputs": [
    {
     "data": {
      "text/html": [
       "<div>\n",
       "<style scoped>\n",
       "    .dataframe tbody tr th:only-of-type {\n",
       "        vertical-align: middle;\n",
       "    }\n",
       "\n",
       "    .dataframe tbody tr th {\n",
       "        vertical-align: top;\n",
       "    }\n",
       "\n",
       "    .dataframe thead th {\n",
       "        text-align: right;\n",
       "    }\n",
       "</style>\n",
       "<table border=\"1\" class=\"dataframe\">\n",
       "  <thead>\n",
       "    <tr style=\"text-align: right;\">\n",
       "      <th></th>\n",
       "      <th>CaseID</th>\n",
       "      <th>Activity</th>\n",
       "      <th>CompleteTimestamp</th>\n",
       "      <th>CumTimeInterval</th>\n",
       "      <th>NormalizedTime</th>\n",
       "    </tr>\n",
       "  </thead>\n",
       "  <tbody>\n",
       "    <tr>\n",
       "      <th>0</th>\n",
       "      <td>1201</td>\n",
       "      <td>NaN</td>\n",
       "      <td>NaN</td>\n",
       "      <td>NaN</td>\n",
       "      <td>NaN</td>\n",
       "    </tr>\n",
       "    <tr>\n",
       "      <th>1</th>\n",
       "      <td>1201</td>\n",
       "      <td>Activity B</td>\n",
       "      <td>NaN</td>\n",
       "      <td>NaN</td>\n",
       "      <td>NaN</td>\n",
       "    </tr>\n",
       "    <tr>\n",
       "      <th>2</th>\n",
       "      <td>1201</td>\n",
       "      <td>NaN</td>\n",
       "      <td>1970-01-01 11:00:00</td>\n",
       "      <td>7200.0</td>\n",
       "      <td>0.000000</td>\n",
       "    </tr>\n",
       "    <tr>\n",
       "      <th>3</th>\n",
       "      <td>1201</td>\n",
       "      <td>NaN</td>\n",
       "      <td>NaN</td>\n",
       "      <td>NaN</td>\n",
       "      <td>NaN</td>\n",
       "    </tr>\n",
       "    <tr>\n",
       "      <th>4</th>\n",
       "      <td>1201</td>\n",
       "      <td>Activity E</td>\n",
       "      <td>1970-01-01 13:00:00</td>\n",
       "      <td>14400.0</td>\n",
       "      <td>0.399998</td>\n",
       "    </tr>\n",
       "  </tbody>\n",
       "</table>\n",
       "</div>"
      ],
      "text/plain": [
       "   CaseID    Activity    CompleteTimestamp  CumTimeInterval  NormalizedTime\n",
       "0    1201         NaN                  NaN              NaN             NaN\n",
       "1    1201  Activity B                  NaN              NaN             NaN\n",
       "2    1201         NaN  1970-01-01 11:00:00           7200.0        0.000000\n",
       "3    1201         NaN                  NaN              NaN             NaN\n",
       "4    1201  Activity E  1970-01-01 13:00:00          14400.0        0.399998"
      ]
     },
     "execution_count": 119,
     "metadata": {},
     "output_type": "execute_result"
    }
   ],
   "source": [
    "missing_true_val.head()"
   ]
  },
  {
   "cell_type": "code",
   "execution_count": 120,
   "metadata": {},
   "outputs": [
    {
     "data": {
      "text/html": [
       "<div>\n",
       "<style scoped>\n",
       "    .dataframe tbody tr th:only-of-type {\n",
       "        vertical-align: middle;\n",
       "    }\n",
       "\n",
       "    .dataframe tbody tr th {\n",
       "        vertical-align: top;\n",
       "    }\n",
       "\n",
       "    .dataframe thead th {\n",
       "        text-align: right;\n",
       "    }\n",
       "</style>\n",
       "<table border=\"1\" class=\"dataframe\">\n",
       "  <thead>\n",
       "    <tr style=\"text-align: right;\">\n",
       "      <th></th>\n",
       "      <th>CaseID</th>\n",
       "      <th>Activity</th>\n",
       "      <th>CompleteTimestamp</th>\n",
       "      <th>CumTimeInterval</th>\n",
       "      <th>NormalizedTime</th>\n",
       "    </tr>\n",
       "  </thead>\n",
       "  <tbody>\n",
       "    <tr>\n",
       "      <th>0</th>\n",
       "      <td>1201</td>\n",
       "      <td>Activity A</td>\n",
       "      <td>1970-01-01 09:00:00</td>\n",
       "      <td>0.0</td>\n",
       "      <td>0.000000</td>\n",
       "    </tr>\n",
       "    <tr>\n",
       "      <th>1</th>\n",
       "      <td>1201</td>\n",
       "      <td>Activity B</td>\n",
       "      <td>1970-01-01 10:00:00</td>\n",
       "      <td>3600.0</td>\n",
       "      <td>0.125000</td>\n",
       "    </tr>\n",
       "    <tr>\n",
       "      <th>2</th>\n",
       "      <td>1201</td>\n",
       "      <td>Activity C</td>\n",
       "      <td>1970-01-01 11:00:00</td>\n",
       "      <td>7200.0</td>\n",
       "      <td>0.249999</td>\n",
       "    </tr>\n",
       "    <tr>\n",
       "      <th>3</th>\n",
       "      <td>1201</td>\n",
       "      <td>Activity D</td>\n",
       "      <td>1970-01-01 12:00:00</td>\n",
       "      <td>10800.0</td>\n",
       "      <td>0.374999</td>\n",
       "    </tr>\n",
       "    <tr>\n",
       "      <th>4</th>\n",
       "      <td>1201</td>\n",
       "      <td>Activity E</td>\n",
       "      <td>1970-01-01 13:00:00</td>\n",
       "      <td>14400.0</td>\n",
       "      <td>0.499998</td>\n",
       "    </tr>\n",
       "  </tbody>\n",
       "</table>\n",
       "</div>"
      ],
      "text/plain": [
       "   CaseID    Activity    CompleteTimestamp  CumTimeInterval  NormalizedTime\n",
       "0    1201  Activity A  1970-01-01 09:00:00              0.0        0.000000\n",
       "1    1201  Activity B  1970-01-01 10:00:00           3600.0        0.125000\n",
       "2    1201  Activity C  1970-01-01 11:00:00           7200.0        0.249999\n",
       "3    1201  Activity D  1970-01-01 12:00:00          10800.0        0.374999\n",
       "4    1201  Activity E  1970-01-01 13:00:00          14400.0        0.499998"
      ]
     },
     "execution_count": 120,
     "metadata": {},
     "output_type": "execute_result"
    }
   ],
   "source": [
    "complete_true_val.head()"
   ]
  },
  {
   "cell_type": "markdown",
   "metadata": {},
   "source": [
    "# Train model"
   ]
  },
  {
   "cell_type": "code",
   "execution_count": 121,
   "metadata": {},
   "outputs": [],
   "source": [
    "def train(epoch, model, optimizer):\n",
    "    model.train()\n",
    "    train_loss = 0\n",
    "    for batch_idx, (m_data, c_data, avai_mask) in enumerate(zip(missing_matrix_w_normalized_time_trainLoader,\n",
    "                                                                complete_matrix_w_normalized_time_trainLoader,\n",
    "                                                                avai_matrix_trainLoader)):\n",
    "        \n",
    "        c_data = Variable(c_data.float())\n",
    "        m_data = Variable(m_data.float())\n",
    "        avai_mask = Variable(avai_mask.float())\n",
    "      \n",
    "        if args.cuda:\n",
    "            c_data = c_data.cuda()\n",
    "            m_data = m_data.cuda()\n",
    "            avai_mask = avai_mask.cuda()\n",
    "            \n",
    "        optimizer.zero_grad()\n",
    "        \n",
    "        recon_data, mu, logvar = model(m_data)\n",
    "        \n",
    "        loss = loss_function(recon_data, c_data, mu, logvar, avai_mask)\n",
    "        loss.backward()\n",
    "        train_loss += loss.data[0]\n",
    "        optimizer.step()\n",
    "        \n",
    "    return train_loss / len(complete_matrix_w_normalized_time_trainLoader.dataset)"
   ]
  },
  {
   "cell_type": "markdown",
   "metadata": {
    "collapsed": true
   },
   "source": [
    "# Predict and evaluate"
   ]
  },
  {
   "cell_type": "code",
   "execution_count": 122,
   "metadata": {
    "scrolled": false
   },
   "outputs": [
    {
     "ename": "TypeError",
     "evalue": "Traceback (most recent call last):\n  File \"/home/geovanni/anaconda3/lib/python3.7/site-packages/torch/utils/data/dataloader.py\", line 138, in _worker_loop\n    samples = collate_fn([dataset[i] for i in batch_indices])\n  File \"/home/geovanni/anaconda3/lib/python3.7/site-packages/torch/utils/data/dataloader.py\", line 216, in default_collate\n    raise TypeError(error_msg.format(elem.dtype))\nTypeError: batch must contain tensors, numbers, dicts or lists; found object\n",
     "output_type": "error",
     "traceback": [
      "\u001b[0;31m---------------------------------------------------------------------------\u001b[0m",
      "\u001b[0;31mTypeError\u001b[0m                                 Traceback (most recent call last)",
      "\u001b[0;32m<ipython-input-122-f271286b5bf0>\u001b[0m in \u001b[0;36m<module>\u001b[0;34m\u001b[0m\n\u001b[1;32m      6\u001b[0m         \u001b[0mscheduler\u001b[0m\u001b[0;34m.\u001b[0m\u001b[0mstep\u001b[0m\u001b[0;34m(\u001b[0m\u001b[0;34m)\u001b[0m\u001b[0;34m\u001b[0m\u001b[0;34m\u001b[0m\u001b[0m\n\u001b[1;32m      7\u001b[0m \u001b[0;34m\u001b[0m\u001b[0m\n\u001b[0;32m----> 8\u001b[0;31m         \u001b[0mtrain_loss\u001b[0m \u001b[0;34m=\u001b[0m \u001b[0mtrain\u001b[0m\u001b[0;34m(\u001b[0m\u001b[0mepoch\u001b[0m\u001b[0;34m,\u001b[0m \u001b[0mmodel\u001b[0m\u001b[0;34m,\u001b[0m \u001b[0moptimizer\u001b[0m\u001b[0;34m)\u001b[0m\u001b[0;34m\u001b[0m\u001b[0;34m\u001b[0m\u001b[0m\n\u001b[0m\u001b[1;32m      9\u001b[0m         \u001b[0mend_train\u001b[0m \u001b[0;34m=\u001b[0m \u001b[0mtime\u001b[0m\u001b[0;34m.\u001b[0m\u001b[0mtime\u001b[0m\u001b[0;34m(\u001b[0m\u001b[0;34m)\u001b[0m\u001b[0;34m\u001b[0m\u001b[0;34m\u001b[0m\u001b[0m\n\u001b[1;32m     10\u001b[0m \u001b[0;34m\u001b[0m\u001b[0m\n",
      "\u001b[0;32m<ipython-input-121-46ff061a95da>\u001b[0m in \u001b[0;36mtrain\u001b[0;34m(epoch, model, optimizer)\u001b[0m\n\u001b[1;32m      4\u001b[0m     for batch_idx, (m_data, c_data, avai_mask) in enumerate(zip(missing_matrix_w_normalized_time_trainLoader,\n\u001b[1;32m      5\u001b[0m                                                                 \u001b[0mcomplete_matrix_w_normalized_time_trainLoader\u001b[0m\u001b[0;34m,\u001b[0m\u001b[0;34m\u001b[0m\u001b[0;34m\u001b[0m\u001b[0m\n\u001b[0;32m----> 6\u001b[0;31m                                                                 avai_matrix_trainLoader)):\n\u001b[0m\u001b[1;32m      7\u001b[0m \u001b[0;34m\u001b[0m\u001b[0m\n\u001b[1;32m      8\u001b[0m         \u001b[0mc_data\u001b[0m \u001b[0;34m=\u001b[0m \u001b[0mVariable\u001b[0m\u001b[0;34m(\u001b[0m\u001b[0mc_data\u001b[0m\u001b[0;34m.\u001b[0m\u001b[0mfloat\u001b[0m\u001b[0;34m(\u001b[0m\u001b[0;34m)\u001b[0m\u001b[0;34m)\u001b[0m\u001b[0;34m\u001b[0m\u001b[0;34m\u001b[0m\u001b[0m\n",
      "\u001b[0;32m~/anaconda3/lib/python3.7/site-packages/torch/utils/data/dataloader.py\u001b[0m in \u001b[0;36m__next__\u001b[0;34m(self)\u001b[0m\n\u001b[1;32m    635\u001b[0m                 \u001b[0mself\u001b[0m\u001b[0;34m.\u001b[0m\u001b[0mreorder_dict\u001b[0m\u001b[0;34m[\u001b[0m\u001b[0midx\u001b[0m\u001b[0;34m]\u001b[0m \u001b[0;34m=\u001b[0m \u001b[0mbatch\u001b[0m\u001b[0;34m\u001b[0m\u001b[0;34m\u001b[0m\u001b[0m\n\u001b[1;32m    636\u001b[0m                 \u001b[0;32mcontinue\u001b[0m\u001b[0;34m\u001b[0m\u001b[0;34m\u001b[0m\u001b[0m\n\u001b[0;32m--> 637\u001b[0;31m             \u001b[0;32mreturn\u001b[0m \u001b[0mself\u001b[0m\u001b[0;34m.\u001b[0m\u001b[0m_process_next_batch\u001b[0m\u001b[0;34m(\u001b[0m\u001b[0mbatch\u001b[0m\u001b[0;34m)\u001b[0m\u001b[0;34m\u001b[0m\u001b[0;34m\u001b[0m\u001b[0m\n\u001b[0m\u001b[1;32m    638\u001b[0m \u001b[0;34m\u001b[0m\u001b[0m\n\u001b[1;32m    639\u001b[0m     \u001b[0mnext\u001b[0m \u001b[0;34m=\u001b[0m \u001b[0m__next__\u001b[0m  \u001b[0;31m# Python 2 compatibility\u001b[0m\u001b[0;34m\u001b[0m\u001b[0;34m\u001b[0m\u001b[0m\n",
      "\u001b[0;32m~/anaconda3/lib/python3.7/site-packages/torch/utils/data/dataloader.py\u001b[0m in \u001b[0;36m_process_next_batch\u001b[0;34m(self, batch)\u001b[0m\n\u001b[1;32m    656\u001b[0m         \u001b[0mself\u001b[0m\u001b[0;34m.\u001b[0m\u001b[0m_put_indices\u001b[0m\u001b[0;34m(\u001b[0m\u001b[0;34m)\u001b[0m\u001b[0;34m\u001b[0m\u001b[0;34m\u001b[0m\u001b[0m\n\u001b[1;32m    657\u001b[0m         \u001b[0;32mif\u001b[0m \u001b[0misinstance\u001b[0m\u001b[0;34m(\u001b[0m\u001b[0mbatch\u001b[0m\u001b[0;34m,\u001b[0m \u001b[0mExceptionWrapper\u001b[0m\u001b[0;34m)\u001b[0m\u001b[0;34m:\u001b[0m\u001b[0;34m\u001b[0m\u001b[0;34m\u001b[0m\u001b[0m\n\u001b[0;32m--> 658\u001b[0;31m             \u001b[0;32mraise\u001b[0m \u001b[0mbatch\u001b[0m\u001b[0;34m.\u001b[0m\u001b[0mexc_type\u001b[0m\u001b[0;34m(\u001b[0m\u001b[0mbatch\u001b[0m\u001b[0;34m.\u001b[0m\u001b[0mexc_msg\u001b[0m\u001b[0;34m)\u001b[0m\u001b[0;34m\u001b[0m\u001b[0;34m\u001b[0m\u001b[0m\n\u001b[0m\u001b[1;32m    659\u001b[0m         \u001b[0;32mreturn\u001b[0m \u001b[0mbatch\u001b[0m\u001b[0;34m\u001b[0m\u001b[0;34m\u001b[0m\u001b[0m\n\u001b[1;32m    660\u001b[0m \u001b[0;34m\u001b[0m\u001b[0m\n",
      "\u001b[0;31mTypeError\u001b[0m: Traceback (most recent call last):\n  File \"/home/geovanni/anaconda3/lib/python3.7/site-packages/torch/utils/data/dataloader.py\", line 138, in _worker_loop\n    samples = collate_fn([dataset[i] for i in batch_indices])\n  File \"/home/geovanni/anaconda3/lib/python3.7/site-packages/torch/utils/data/dataloader.py\", line 216, in default_collate\n    raise TypeError(error_msg.format(elem.dtype))\nTypeError: batch must contain tensors, numbers, dicts or lists; found object\n"
     ]
    }
   ],
   "source": [
    "if args.train:\n",
    "    for epoch in range(1, args.epochs + 1):\n",
    "        init = time.time()\n",
    "        \n",
    "        #method 1 scheduler\n",
    "        scheduler.step()\n",
    "        \n",
    "        train_loss = train(epoch, model, optimizer)\n",
    "        end_train = time.time()\n",
    "        \n",
    "        val_score = val(model, missing_matrix_w_normalized_time_val, \n",
    "                        complete_matrix_w_normalized_time_val, avai_matrix_val)\n",
    "        \n",
    "        end = time.time()\n",
    "        print('====> Epoch {} | Train time: {:.4f} ms| End time: {:.4f} ms | Train loss: {:.4f} | Val score: {:.4f}'.\n",
    "              format(epoch, (end_train-init)*1000, (end-init)*1000, train_loss, val_score))\n",
    "else:\n",
    "    load_model(model, args.model_name)"
   ]
  },
  {
   "cell_type": "code",
   "execution_count": 42,
   "metadata": {},
   "outputs": [
    {
     "name": "stdout",
     "output_type": "stream",
     "text": [
      "Predicting...\n",
      "\n",
      "\n",
      "Converting to dataframe...\n"
     ]
    },
    {
     "name": "stderr",
     "output_type": "stream",
     "text": [
      "./../utils/utils.py:129: UserWarning: Implicit dimension choice for softmax has been deprecated. Change the call to include dim=X as an argument.\n",
      "  softmax_values = softmax(recon_test[i, :, 1:])\n"
     ]
    },
    {
     "ename": "ValueError",
     "evalue": "operands could not be broadcast together with shapes (400,14,16) (400,14,18) ",
     "output_type": "error",
     "traceback": [
      "\u001b[0;31m---------------------------------------------------------------------------\u001b[0m",
      "\u001b[0;31mValueError\u001b[0m                                Traceback (most recent call last)",
      "\u001b[0;32m<ipython-input-42-1e2e5bef572f>\u001b[0m in \u001b[0;36m<module>\u001b[0;34m\u001b[0m\n\u001b[1;32m     11\u001b[0m     \u001b[0mprint\u001b[0m\u001b[0;34m(\u001b[0m\u001b[0;34m'\\n'\u001b[0m\u001b[0;34m)\u001b[0m\u001b[0;34m\u001b[0m\u001b[0;34m\u001b[0m\u001b[0m\n\u001b[1;32m     12\u001b[0m     \u001b[0mprint\u001b[0m\u001b[0;34m(\u001b[0m\u001b[0;34m'Converting to dataframe...'\u001b[0m\u001b[0;34m)\u001b[0m\u001b[0;34m\u001b[0m\u001b[0;34m\u001b[0m\u001b[0m\n\u001b[0;32m---> 13\u001b[0;31m     \u001b[0mrecon_df_w_normalized_time\u001b[0m \u001b[0;34m=\u001b[0m \u001b[0mconvert2df\u001b[0m\u001b[0;34m(\u001b[0m\u001b[0mrecon_test\u001b[0m\u001b[0;34m,\u001b[0m \u001b[0mpad_matrix_test\u001b[0m\u001b[0;34m,\u001b[0m \u001b[0mcols_w_normalized_time\u001b[0m\u001b[0;34m,\u001b[0m \u001b[0mtest_row_num\u001b[0m\u001b[0;34m)\u001b[0m\u001b[0;34m\u001b[0m\u001b[0;34m\u001b[0m\u001b[0m\n\u001b[0m\u001b[1;32m     14\u001b[0m \u001b[0;34m\u001b[0m\u001b[0m\n\u001b[1;32m     15\u001b[0m     \u001b[0mprint\u001b[0m\u001b[0;34m(\u001b[0m\u001b[0;34m'Transforming Normalized Time to Time...'\u001b[0m\u001b[0;34m)\u001b[0m\u001b[0;34m\u001b[0m\u001b[0;34m\u001b[0m\u001b[0m\n",
      "\u001b[0;32m~/Documents/TCC/WIP/event-log-reconstruction/utils/utils.py\u001b[0m in \u001b[0;36mconvert2df\u001b[0;34m(predicted_tensor, pad_matrix, cols, test_row_num)\u001b[0m\n\u001b[1;32m    149\u001b[0m \u001b[0;34m\u001b[0m\u001b[0m\n\u001b[1;32m    150\u001b[0m     \u001b[0;31m#Remove 0-padding\u001b[0m\u001b[0;34m\u001b[0m\u001b[0;34m\u001b[0m\u001b[0;34m\u001b[0m\u001b[0m\n\u001b[0;32m--> 151\u001b[0;31m     \u001b[0mtemp_array\u001b[0m \u001b[0;34m=\u001b[0m \u001b[0mpredicted_array\u001b[0m\u001b[0;34m*\u001b[0m\u001b[0mpad_matrix\u001b[0m\u001b[0;34m\u001b[0m\u001b[0;34m\u001b[0m\u001b[0m\n\u001b[0m\u001b[1;32m    152\u001b[0m     \u001b[0mtemp_array\u001b[0m \u001b[0;34m=\u001b[0m \u001b[0mtemp_array\u001b[0m\u001b[0;34m.\u001b[0m\u001b[0mreshape\u001b[0m\u001b[0;34m(\u001b[0m\u001b[0mpredicted_array\u001b[0m\u001b[0;34m.\u001b[0m\u001b[0mshape\u001b[0m\u001b[0;34m[\u001b[0m\u001b[0;36m0\u001b[0m\u001b[0;34m]\u001b[0m\u001b[0;34m*\u001b[0m\u001b[0mpredicted_array\u001b[0m\u001b[0;34m.\u001b[0m\u001b[0mshape\u001b[0m\u001b[0;34m[\u001b[0m\u001b[0;36m1\u001b[0m\u001b[0;34m]\u001b[0m\u001b[0;34m,\u001b[0m \u001b[0mpredicted_array\u001b[0m\u001b[0;34m.\u001b[0m\u001b[0mshape\u001b[0m\u001b[0;34m[\u001b[0m\u001b[0;36m2\u001b[0m\u001b[0;34m]\u001b[0m\u001b[0;34m)\u001b[0m\u001b[0;34m\u001b[0m\u001b[0;34m\u001b[0m\u001b[0m\n\u001b[1;32m    153\u001b[0m     \u001b[0mtemp_array\u001b[0m \u001b[0;34m=\u001b[0m \u001b[0mtemp_array\u001b[0m\u001b[0;34m[\u001b[0m\u001b[0mnp\u001b[0m\u001b[0;34m.\u001b[0m\u001b[0many\u001b[0m\u001b[0;34m(\u001b[0m\u001b[0mtemp_array\u001b[0m \u001b[0;34m!=\u001b[0m \u001b[0;36m0\u001b[0m\u001b[0;34m,\u001b[0m \u001b[0maxis\u001b[0m\u001b[0;34m=\u001b[0m\u001b[0;36m1\u001b[0m\u001b[0;34m)\u001b[0m\u001b[0;34m]\u001b[0m\u001b[0;34m\u001b[0m\u001b[0;34m\u001b[0m\u001b[0m\n",
      "\u001b[0;31mValueError\u001b[0m: operands could not be broadcast together with shapes (400,14,16) (400,14,18) "
     ]
    }
   ],
   "source": [
    "if args.test:\n",
    "    m_test = missing_matrix_w_normalized_time_test\n",
    "    m_test = Variable(torch.Tensor(m_test).float())\n",
    "    \n",
    "    if args.cuda:\n",
    "        m_test = m_test.cuda()\n",
    "    \n",
    "    print('Predicting...')\n",
    "    recon_test, mu, logvar = model(m_test)\n",
    "    \n",
    "    print('\\n')\n",
    "    print('Converting to dataframe...')\n",
    "    recon_df_w_normalized_time = convert2df(recon_test, pad_matrix_test, cols_w_normalized_time, test_row_num)\n",
    "    \n",
    "    print('Transforming Normalized Time to Time...')\n",
    "    recon_df_w_time = getDfWithTime(recon_df_w_normalized_time, missing_true_test, min_max_storage)\n",
    "    \n",
    "    print('Getting submission...')\n",
    "    submission_df = getSubmission(recon_df_w_time, missing_true_test, complete_true_test, first_timestamp)\n",
    "    \n",
    "    print('Fixing Time...')\n",
    "    submission = fixTime(submission_df)\n",
    "        \n",
    "    print('Testing...')\n",
    "    mae_time, rmse_time, acc = evaluation(submission, nan_time_index_test, nan_activity_index_test,show=True)\n",
    "    \n",
    "    print('\\n')\n",
    "    print('Saving submission...')\n",
    "    submission_df.to_csv(args.output_dir+'submission.csv', index=False)\n",
    "    print('Done!')"
   ]
  },
  {
   "cell_type": "code",
   "execution_count": 43,
   "metadata": {},
   "outputs": [
    {
     "ename": "NameError",
     "evalue": "name 'submission_df' is not defined",
     "output_type": "error",
     "traceback": [
      "\u001b[0;31m---------------------------------------------------------------------------\u001b[0m",
      "\u001b[0;31mNameError\u001b[0m                                 Traceback (most recent call last)",
      "\u001b[0;32m<ipython-input-43-5b930021a10e>\u001b[0m in \u001b[0;36m<module>\u001b[0;34m\u001b[0m\n\u001b[0;32m----> 1\u001b[0;31m \u001b[0msubmission_df\u001b[0m\u001b[0;34m.\u001b[0m\u001b[0mhead\u001b[0m\u001b[0;34m(\u001b[0m\u001b[0;36m10\u001b[0m\u001b[0;34m)\u001b[0m\u001b[0;34m\u001b[0m\u001b[0;34m\u001b[0m\u001b[0m\n\u001b[0m",
      "\u001b[0;31mNameError\u001b[0m: name 'submission_df' is not defined"
     ]
    }
   ],
   "source": [
    "submission_df.head(10)"
   ]
  },
  {
   "cell_type": "code",
   "execution_count": 44,
   "metadata": {},
   "outputs": [
    {
     "ename": "NameError",
     "evalue": "name 'submission' is not defined",
     "output_type": "error",
     "traceback": [
      "\u001b[0;31m---------------------------------------------------------------------------\u001b[0m",
      "\u001b[0;31mNameError\u001b[0m                                 Traceback (most recent call last)",
      "\u001b[0;32m<ipython-input-44-d1d5732dacf7>\u001b[0m in \u001b[0;36m<module>\u001b[0;34m\u001b[0m\n\u001b[0;32m----> 1\u001b[0;31m \u001b[0msubmission\u001b[0m\u001b[0;34m.\u001b[0m\u001b[0mhead\u001b[0m\u001b[0;34m(\u001b[0m\u001b[0;36m20\u001b[0m\u001b[0;34m)\u001b[0m\u001b[0;34m\u001b[0m\u001b[0;34m\u001b[0m\u001b[0m\n\u001b[0m",
      "\u001b[0;31mNameError\u001b[0m: name 'submission' is not defined"
     ]
    }
   ],
   "source": [
    "submission.head(20)"
   ]
  },
  {
   "cell_type": "code",
   "execution_count": 45,
   "metadata": {},
   "outputs": [
    {
     "data": {
      "text/html": [
       "<div>\n",
       "<style scoped>\n",
       "    .dataframe tbody tr th:only-of-type {\n",
       "        vertical-align: middle;\n",
       "    }\n",
       "\n",
       "    .dataframe tbody tr th {\n",
       "        vertical-align: top;\n",
       "    }\n",
       "\n",
       "    .dataframe thead th {\n",
       "        text-align: right;\n",
       "    }\n",
       "</style>\n",
       "<table border=\"1\" class=\"dataframe\">\n",
       "  <thead>\n",
       "    <tr style=\"text-align: right;\">\n",
       "      <th></th>\n",
       "      <th>CaseID</th>\n",
       "      <th>Activity</th>\n",
       "      <th>CompleteTimestamp</th>\n",
       "      <th>CumTimeInterval</th>\n",
       "      <th>NormalizedTime</th>\n",
       "    </tr>\n",
       "  </thead>\n",
       "  <tbody>\n",
       "    <tr>\n",
       "      <th>0</th>\n",
       "      <td>1601</td>\n",
       "      <td>Activity A</td>\n",
       "      <td>1970-01-01 09:00:00</td>\n",
       "      <td>0.0</td>\n",
       "      <td>0.000000</td>\n",
       "    </tr>\n",
       "    <tr>\n",
       "      <th>1</th>\n",
       "      <td>1601</td>\n",
       "      <td>Activity B</td>\n",
       "      <td>1970-01-01 10:00:00</td>\n",
       "      <td>3600.0</td>\n",
       "      <td>0.125000</td>\n",
       "    </tr>\n",
       "    <tr>\n",
       "      <th>2</th>\n",
       "      <td>1601</td>\n",
       "      <td>Activity C</td>\n",
       "      <td>NaN</td>\n",
       "      <td>NaN</td>\n",
       "      <td>NaN</td>\n",
       "    </tr>\n",
       "    <tr>\n",
       "      <th>3</th>\n",
       "      <td>1601</td>\n",
       "      <td>Activity D</td>\n",
       "      <td>1970-01-01 12:00:00</td>\n",
       "      <td>10800.0</td>\n",
       "      <td>0.374999</td>\n",
       "    </tr>\n",
       "    <tr>\n",
       "      <th>4</th>\n",
       "      <td>1601</td>\n",
       "      <td>NaN</td>\n",
       "      <td>1970-01-01 13:00:00</td>\n",
       "      <td>14400.0</td>\n",
       "      <td>0.499998</td>\n",
       "    </tr>\n",
       "    <tr>\n",
       "      <th>5</th>\n",
       "      <td>1601</td>\n",
       "      <td>Activity G</td>\n",
       "      <td>1970-01-01 14:00:00</td>\n",
       "      <td>18000.0</td>\n",
       "      <td>0.624998</td>\n",
       "    </tr>\n",
       "    <tr>\n",
       "      <th>6</th>\n",
       "      <td>1601</td>\n",
       "      <td>NaN</td>\n",
       "      <td>1970-01-01 14:00:00</td>\n",
       "      <td>18000.0</td>\n",
       "      <td>0.624998</td>\n",
       "    </tr>\n",
       "    <tr>\n",
       "      <th>7</th>\n",
       "      <td>1601</td>\n",
       "      <td>Activity K</td>\n",
       "      <td>1970-01-01 14:00:00</td>\n",
       "      <td>18000.0</td>\n",
       "      <td>0.624998</td>\n",
       "    </tr>\n",
       "    <tr>\n",
       "      <th>8</th>\n",
       "      <td>1601</td>\n",
       "      <td>Activity I</td>\n",
       "      <td>1970-01-01 15:00:00</td>\n",
       "      <td>21600.0</td>\n",
       "      <td>0.749997</td>\n",
       "    </tr>\n",
       "    <tr>\n",
       "      <th>9</th>\n",
       "      <td>1601</td>\n",
       "      <td>Activity J</td>\n",
       "      <td>1970-01-01 15:00:00</td>\n",
       "      <td>21600.0</td>\n",
       "      <td>0.749997</td>\n",
       "    </tr>\n",
       "    <tr>\n",
       "      <th>10</th>\n",
       "      <td>1601</td>\n",
       "      <td>NaN</td>\n",
       "      <td>1970-01-01 15:00:00</td>\n",
       "      <td>21600.0</td>\n",
       "      <td>0.749997</td>\n",
       "    </tr>\n",
       "    <tr>\n",
       "      <th>11</th>\n",
       "      <td>1601</td>\n",
       "      <td>NaN</td>\n",
       "      <td>1970-01-01 15:00:00</td>\n",
       "      <td>21600.0</td>\n",
       "      <td>0.749997</td>\n",
       "    </tr>\n",
       "    <tr>\n",
       "      <th>12</th>\n",
       "      <td>1601</td>\n",
       "      <td>Activity H</td>\n",
       "      <td>1970-01-01 16:00:00</td>\n",
       "      <td>25200.0</td>\n",
       "      <td>0.874997</td>\n",
       "    </tr>\n",
       "    <tr>\n",
       "      <th>13</th>\n",
       "      <td>1601</td>\n",
       "      <td>NaN</td>\n",
       "      <td>1970-01-01 17:00:00</td>\n",
       "      <td>28800.0</td>\n",
       "      <td>0.999997</td>\n",
       "    </tr>\n",
       "    <tr>\n",
       "      <th>14</th>\n",
       "      <td>1602</td>\n",
       "      <td>Activity A</td>\n",
       "      <td>NaN</td>\n",
       "      <td>NaN</td>\n",
       "      <td>NaN</td>\n",
       "    </tr>\n",
       "    <tr>\n",
       "      <th>15</th>\n",
       "      <td>1602</td>\n",
       "      <td>Activity B</td>\n",
       "      <td>1970-01-01 10:00:00</td>\n",
       "      <td>3600.0</td>\n",
       "      <td>0.000000</td>\n",
       "    </tr>\n",
       "    <tr>\n",
       "      <th>16</th>\n",
       "      <td>1602</td>\n",
       "      <td>Activity C</td>\n",
       "      <td>1970-01-01 11:00:00</td>\n",
       "      <td>7200.0</td>\n",
       "      <td>0.142857</td>\n",
       "    </tr>\n",
       "    <tr>\n",
       "      <th>17</th>\n",
       "      <td>1602</td>\n",
       "      <td>Activity D</td>\n",
       "      <td>1970-01-01 12:00:00</td>\n",
       "      <td>10800.0</td>\n",
       "      <td>0.285713</td>\n",
       "    </tr>\n",
       "    <tr>\n",
       "      <th>18</th>\n",
       "      <td>1602</td>\n",
       "      <td>Activity E</td>\n",
       "      <td>1970-01-01 13:00:00</td>\n",
       "      <td>14400.0</td>\n",
       "      <td>0.428570</td>\n",
       "    </tr>\n",
       "    <tr>\n",
       "      <th>19</th>\n",
       "      <td>1602</td>\n",
       "      <td>Activity K</td>\n",
       "      <td>NaN</td>\n",
       "      <td>NaN</td>\n",
       "      <td>NaN</td>\n",
       "    </tr>\n",
       "  </tbody>\n",
       "</table>\n",
       "</div>"
      ],
      "text/plain": [
       "    CaseID    Activity    CompleteTimestamp  CumTimeInterval  NormalizedTime\n",
       "0     1601  Activity A  1970-01-01 09:00:00              0.0        0.000000\n",
       "1     1601  Activity B  1970-01-01 10:00:00           3600.0        0.125000\n",
       "2     1601  Activity C                  NaN              NaN             NaN\n",
       "3     1601  Activity D  1970-01-01 12:00:00          10800.0        0.374999\n",
       "4     1601         NaN  1970-01-01 13:00:00          14400.0        0.499998\n",
       "5     1601  Activity G  1970-01-01 14:00:00          18000.0        0.624998\n",
       "6     1601         NaN  1970-01-01 14:00:00          18000.0        0.624998\n",
       "7     1601  Activity K  1970-01-01 14:00:00          18000.0        0.624998\n",
       "8     1601  Activity I  1970-01-01 15:00:00          21600.0        0.749997\n",
       "9     1601  Activity J  1970-01-01 15:00:00          21600.0        0.749997\n",
       "10    1601         NaN  1970-01-01 15:00:00          21600.0        0.749997\n",
       "11    1601         NaN  1970-01-01 15:00:00          21600.0        0.749997\n",
       "12    1601  Activity H  1970-01-01 16:00:00          25200.0        0.874997\n",
       "13    1601         NaN  1970-01-01 17:00:00          28800.0        0.999997\n",
       "14    1602  Activity A                  NaN              NaN             NaN\n",
       "15    1602  Activity B  1970-01-01 10:00:00           3600.0        0.000000\n",
       "16    1602  Activity C  1970-01-01 11:00:00           7200.0        0.142857\n",
       "17    1602  Activity D  1970-01-01 12:00:00          10800.0        0.285713\n",
       "18    1602  Activity E  1970-01-01 13:00:00          14400.0        0.428570\n",
       "19    1602  Activity K                  NaN              NaN             NaN"
      ]
     },
     "execution_count": 45,
     "metadata": {},
     "output_type": "execute_result"
    }
   ],
   "source": [
    "missing_true_test.head(20)"
   ]
  },
  {
   "cell_type": "code",
   "execution_count": 46,
   "metadata": {},
   "outputs": [
    {
     "data": {
      "text/plain": [
       "Timestamp('1970-01-01 09:00:00')"
      ]
     },
     "execution_count": 46,
     "metadata": {},
     "output_type": "execute_result"
    }
   ],
   "source": [
    "first_timestamp"
   ]
  },
  {
   "cell_type": "code",
   "execution_count": null,
   "metadata": {},
   "outputs": [],
   "source": []
  },
  {
   "cell_type": "code",
   "execution_count": null,
   "metadata": {},
   "outputs": [],
   "source": []
  }
 ],
 "metadata": {
  "kernelspec": {
   "display_name": "Python 3",
   "language": "python",
   "name": "python3"
  },
  "language_info": {
   "codemirror_mode": {
    "name": "ipython",
    "version": 3
   },
   "file_extension": ".py",
   "mimetype": "text/x-python",
   "name": "python",
   "nbconvert_exporter": "python",
   "pygments_lexer": "ipython3",
   "version": "3.7.3"
  },
  "toc": {
   "colors": {
    "hover_highlight": "#DAA520",
    "running_highlight": "#FF0000",
    "selected_highlight": "#FFD700"
   },
   "moveMenuLeft": true,
   "nav_menu": {
    "height": "48px",
    "width": "252px"
   },
   "navigate_menu": true,
   "number_sections": true,
   "sideBar": true,
   "threshold": 4,
   "toc_cell": false,
   "toc_section_display": "block",
   "toc_window_display": false
  }
 },
 "nbformat": 4,
 "nbformat_minor": 2
}
